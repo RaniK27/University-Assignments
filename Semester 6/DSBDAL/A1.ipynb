#!/usr/bin/env python
# coding: utf-8

# Assignment 1:
# Data Wrangling, I 
# Perform the following operations using Python on any open source dataset (e.g., data.csv) 
#     1. Import all the required Python Libraries. 
#     2. Locate an open source data from the web (e.g. https://www.kaggle.com). Provide a clear  description of the data and its source (i.e., URL of the web site). 
#     3. Load the Dataset into pandas data frame. 
#     4. Data Preprocessing: check for missing values in the data using pandas insult(), describe() function  to  get  some  initial  statistics.  Provide  variable  descriptions.  Types  of  variables etc. Check the dimensions of the data frame. 
#     5. Data Formatting and Data Normalization: Summarize the types of variables by checking the data types (i.e., character, numeric, integer, factor, and logical) of the variables in the data set. If variables are not in the correct data type, apply proper type conversions. 
#     6. Turn categorical variables into quantitative variables in Python. 
# In addition to the codes and outputs, explain every operation that you do in the above steps and explain everything that you do to import/read/scrape the data set.

# In[2]:


import pandas as pd
from sklearn import preprocessing
from sklearn.preprocessing import MinMaxScaler
from sklearn.preprocessing import LabelEncoder


# In[4]:


df = pd.read_csv("/home/student/Documents/31170/A1/exams.csv")


# In[5]:


df.shape


# In[6]:


df.head()


# In[7]:


df.tail()


# In[8]:


df.info()


# In[9]:


df.isnull().sum()


# In[10]:


df.describe()


# In[11]:


mean_val = df['math score'].mean()


# In[12]:


df['math score'].fillna((df['math score'].mean()), inplace=True)


# In[13]:


mean_val = df['reading score'].mean()


# In[14]:


df['reading score'].fillna((df['reading score'].mean()), inplace=True)


# In[15]:


mean_val = df['writing score'].mean()


# In[16]:


df['writing score'].fillna((df['writing score'].mean()), inplace=True)


# In[17]:


df['test preparation course'].fillna(df['test preparation course'].mode()[0], inplace=True)


# In[18]:


df.isnull().sum()


# In[19]:


df2 = df.iloc[:,[5,6,7]]


# In[20]:


scaler = MinMaxScaler()


# In[21]:


df2 = scaler.fit_transform(df2)


# In[22]:


df2


# In[23]:


df.iloc[:,[5,6,7]] = df2


# In[24]:


df


# In[25]:


le = LabelEncoder()


# In[26]:


df['gender'] = le.fit_transform(df['gender'])


# In[27]:


df['race/ethnicity'] = le.fit_transform(df['race/ethnicity'])


# In[28]:


df['parental level of education'] = le.fit_transform(df['parental level of education'])


# In[29]:


df['lunch'] = le.fit_transform(df['lunch'])


# In[30]:


df['test preparation course'] = le.fit_transform(df['test preparation course'])


# In[31]:


df


# In[32]:


print(df.dtypes)


# In[41]:


#df['reading score'].astype(int) to perform type casting


# In[ ]:



